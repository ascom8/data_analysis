{
 "cells": [
  {
   "cell_type": "markdown",
   "metadata": {
    "id": "bri_pAriNFqN"
   },
   "source": [
    "**Цель работы:**\n",
    "\n",
    "Осуществить предварительную обработку данных csv-файла, выявить и устранить проблемы в этих данных.\n",
    "\n",
    "**Задание**\n",
    "\n",
    "1. Загрузить датасет с помощью библиотеки ```pandas```.\n",
    "2. Вывести первые 20 строк с помощью метода ```head``` .\n",
    "3. Выполнить обзор данных - описать столбцы и вашу предметную область.\n",
    "4. С помощью метода info оценить данные (есть ли пропуски, сколько всего строк, какие типы данных у столбцов).\n",
    "5. Применить ```describe``` . С помощью ```describe``` оценить числовые столбцы (если они есть).\n",
    "6. Вывести на экран названия столбцов с помощью ```df.columns```. Выявить проблемы с названиями, если они есть. При необходимости переименовать столбцы. Если проблемы не обнаружены также дать пояснения.\n",
    "7. Проверить данные на наличие пропусков и устранить их, если они есть (пропуски необходимо либо удалить, либо заменить каким-то значением).\n",
    "8. Проверьте данные на наличие явных и неявных дубликатов. Удалите дубликаты, если они есть.\n",
    "9. Проверьте типы данных, при необходимости измените типы данных, чтобы они соответствовали действительности.\n",
    "10. Осуществите группировки и создайте сводные таблицы в соответствии с вариантом.\n",
    "11. Сделайте выводе по работе."
   ]
  },
  {
   "cell_type": "markdown",
   "metadata": {
    "id": "r_e-GeJmgZ8l"
   },
   "source": [
    "# Загрузка набора данных"
   ]
  },
  {
   "cell_type": "markdown",
   "metadata": {
    "id": "eeq9ZAbSguQS"
   },
   "source": [
    "### Описание предметной области"
   ]
  },
  {
   "cell_type": "markdown",
   "metadata": {
    "id": "XHbH8zNIg0Ib"
   },
   "source": [
    "**Предметная область**\\\n",
    "Данные отражают информацию о сессиях пользователей цифровой платформы: уникальный идентификатор пользователя, регион проживания, тип устройства, канал привлечения и временные метки начала и окончания сессии. Анализ таких данных позволяет компаниям и маркетологам оценивать поведение пользователей, измерять вовлечённость, сравнивать эффективность различных рекламных каналов и выявлять паттерны использования сервиса в зависимости от устройства или источника трафика.\n",
    "\n",
    "**Вариант №5**\n",
    "\n",
    "Набор данных: ```visits.csv```\n",
    "\n",
    "Атрибуты:\\\n",
    "```User_Id``` — уникальный идентификатор пользователя\\\n",
    "```Region``` — страна пользователя\\\n",
    "```Device``` — устройство пользователя\\\n",
    "```Channel``` — идентификатор рекламного источника, из которого пришел пользователь\\\n",
    "```Session_Start``` — дата и время начала сессии\\\n",
    "```Session_End``` — дата и время окончания сессии"
   ]
  },
  {
   "cell_type": "markdown",
   "metadata": {
    "id": "Lwin9ia7hT1i"
   },
   "source": [
    "### 1.Чтение файла (набора данных)"
   ]
  },
  {
   "cell_type": "markdown",
   "metadata": {},
   "source": [
    "Импорт библиотек, чтение файла с помощью pandas"
   ]
  },
  {
   "cell_type": "code",
   "execution_count": 2,
   "metadata": {
    "id": "a5dYQO5YhOYa"
   },
   "outputs": [],
   "source": [
    "import pandas as pd\n",
    "df = pd.read_csv(\"visits.csv\", sep = ';')"
   ]
  },
  {
   "cell_type": "markdown",
   "metadata": {
    "id": "p82p53SvhjLN"
   },
   "source": [
    "### 2. Обзор данных"
   ]
  },
  {
   "cell_type": "markdown",
   "metadata": {
    "id": "eAYzXaLrh-qh"
   },
   "source": [
    "2.1 Вывод первых 20 строк с помощью метода head."
   ]
  },
  {
   "cell_type": "code",
   "execution_count": 3,
   "metadata": {
    "id": "7yMo3VZ_hotx"
   },
   "outputs": [
    {
     "data": {
      "text/html": [
       "<div>\n",
       "<style scoped>\n",
       "    .dataframe tbody tr th:only-of-type {\n",
       "        vertical-align: middle;\n",
       "    }\n",
       "\n",
       "    .dataframe tbody tr th {\n",
       "        vertical-align: top;\n",
       "    }\n",
       "\n",
       "    .dataframe thead th {\n",
       "        text-align: right;\n",
       "    }\n",
       "</style>\n",
       "<table border=\"1\" class=\"dataframe\">\n",
       "  <thead>\n",
       "    <tr style=\"text-align: right;\">\n",
       "      <th></th>\n",
       "      <th>User_Id</th>\n",
       "      <th>Region</th>\n",
       "      <th>Device</th>\n",
       "      <th>Channel</th>\n",
       "      <th>Session_Start</th>\n",
       "      <th>SESSION_End</th>\n",
       "    </tr>\n",
       "  </thead>\n",
       "  <tbody>\n",
       "    <tr>\n",
       "      <th>0</th>\n",
       "      <td>9,81449E+11</td>\n",
       "      <td>United States</td>\n",
       "      <td>iPhone</td>\n",
       "      <td>organic</td>\n",
       "      <td>01.05.2019 2:36</td>\n",
       "      <td>01.05.2019 2:45</td>\n",
       "    </tr>\n",
       "    <tr>\n",
       "      <th>1</th>\n",
       "      <td>2,78966E+11</td>\n",
       "      <td>United States</td>\n",
       "      <td>iPhone</td>\n",
       "      <td>organic</td>\n",
       "      <td>01.05.2019 4:46</td>\n",
       "      <td>01.05.2019 4:47</td>\n",
       "    </tr>\n",
       "    <tr>\n",
       "      <th>2</th>\n",
       "      <td>5,90706E+11</td>\n",
       "      <td>United States</td>\n",
       "      <td>Mac</td>\n",
       "      <td>organic</td>\n",
       "      <td>01.05.2019 14:09</td>\n",
       "      <td>01.05.2019 15:32</td>\n",
       "    </tr>\n",
       "    <tr>\n",
       "      <th>3</th>\n",
       "      <td>3,26434E+11</td>\n",
       "      <td>United States</td>\n",
       "      <td>Android</td>\n",
       "      <td>TipTop</td>\n",
       "      <td>01.05.2019 0:29</td>\n",
       "      <td>01.05.2019 0:54</td>\n",
       "    </tr>\n",
       "    <tr>\n",
       "      <th>4</th>\n",
       "      <td>3,49774E+11</td>\n",
       "      <td>United States</td>\n",
       "      <td>Mac</td>\n",
       "      <td>organic</td>\n",
       "      <td>01.05.2019 3:33</td>\n",
       "      <td>01.05.2019 3:57</td>\n",
       "    </tr>\n",
       "    <tr>\n",
       "      <th>5</th>\n",
       "      <td>43958116050</td>\n",
       "      <td>United States</td>\n",
       "      <td>Android</td>\n",
       "      <td>organic</td>\n",
       "      <td>01.05.2019 9:03</td>\n",
       "      <td>01.05.2019 10:08</td>\n",
       "    </tr>\n",
       "    <tr>\n",
       "      <th>6</th>\n",
       "      <td>1,85365E+11</td>\n",
       "      <td>United States</td>\n",
       "      <td>iPhone</td>\n",
       "      <td>organic</td>\n",
       "      <td>01.05.2019 9:37</td>\n",
       "      <td>01.05.2019 10:00</td>\n",
       "    </tr>\n",
       "    <tr>\n",
       "      <th>7</th>\n",
       "      <td>1,00971E+11</td>\n",
       "      <td>United States</td>\n",
       "      <td>Mac</td>\n",
       "      <td>TipTop</td>\n",
       "      <td>01.05.2019 4:39</td>\n",
       "      <td>01.05.2019 4:57</td>\n",
       "    </tr>\n",
       "    <tr>\n",
       "      <th>8</th>\n",
       "      <td>3,70456E+11</td>\n",
       "      <td>United States</td>\n",
       "      <td>iPhone</td>\n",
       "      <td>organic</td>\n",
       "      <td>01.05.2019 14:44</td>\n",
       "      <td>01.05.2019 15:41</td>\n",
       "    </tr>\n",
       "    <tr>\n",
       "      <th>9</th>\n",
       "      <td>1,41838E+11</td>\n",
       "      <td>United States</td>\n",
       "      <td>Mac</td>\n",
       "      <td>FaceBoom</td>\n",
       "      <td>01.05.2019 6:20</td>\n",
       "      <td>01.05.2019 6:54</td>\n",
       "    </tr>\n",
       "    <tr>\n",
       "      <th>10</th>\n",
       "      <td>9,24309E+11</td>\n",
       "      <td>United States</td>\n",
       "      <td>iPhone</td>\n",
       "      <td>organic</td>\n",
       "      <td>01.05.2019 20:03</td>\n",
       "      <td>01.05.2019 20:19</td>\n",
       "    </tr>\n",
       "    <tr>\n",
       "      <th>11</th>\n",
       "      <td>7,74938E+11</td>\n",
       "      <td>United States</td>\n",
       "      <td>iPhone</td>\n",
       "      <td>MediaTornado</td>\n",
       "      <td>01.05.2019 14:01</td>\n",
       "      <td>01.05.2019 14:29</td>\n",
       "    </tr>\n",
       "    <tr>\n",
       "      <th>12</th>\n",
       "      <td>2,44879E+11</td>\n",
       "      <td>United States</td>\n",
       "      <td>iPhone</td>\n",
       "      <td>MediaTornado</td>\n",
       "      <td>01.05.2019 1:59</td>\n",
       "      <td>01.05.2019 2:21</td>\n",
       "    </tr>\n",
       "    <tr>\n",
       "      <th>13</th>\n",
       "      <td>1,57877E+11</td>\n",
       "      <td>United States</td>\n",
       "      <td>Mac</td>\n",
       "      <td>organic</td>\n",
       "      <td>01.05.2019 10:25</td>\n",
       "      <td>01.05.2019 10:35</td>\n",
       "    </tr>\n",
       "    <tr>\n",
       "      <th>14</th>\n",
       "      <td>5,24629E+11</td>\n",
       "      <td>United States</td>\n",
       "      <td>Mac</td>\n",
       "      <td>organic</td>\n",
       "      <td>01.05.2019 17:06</td>\n",
       "      <td>01.05.2019 18:05</td>\n",
       "    </tr>\n",
       "    <tr>\n",
       "      <th>15</th>\n",
       "      <td>1,36227E+11</td>\n",
       "      <td>United States</td>\n",
       "      <td>PC</td>\n",
       "      <td>organic</td>\n",
       "      <td>01.05.2019 19:34</td>\n",
       "      <td>01.05.2019 19:39</td>\n",
       "    </tr>\n",
       "    <tr>\n",
       "      <th>16</th>\n",
       "      <td>6,84979E+11</td>\n",
       "      <td>United States</td>\n",
       "      <td>iPhone</td>\n",
       "      <td>TipTop</td>\n",
       "      <td>01.05.2019 1:51</td>\n",
       "      <td>01.05.2019 2:12</td>\n",
       "    </tr>\n",
       "    <tr>\n",
       "      <th>17</th>\n",
       "      <td>9,05776E+11</td>\n",
       "      <td>United States</td>\n",
       "      <td>iPhone</td>\n",
       "      <td>organic</td>\n",
       "      <td>01.05.2019 14:26</td>\n",
       "      <td>01.05.2019 14:35</td>\n",
       "    </tr>\n",
       "    <tr>\n",
       "      <th>18</th>\n",
       "      <td>15174034813</td>\n",
       "      <td>United States</td>\n",
       "      <td>iPhone</td>\n",
       "      <td>FaceBoom</td>\n",
       "      <td>01.05.2019 15:34</td>\n",
       "      <td>01.05.2019 15:56</td>\n",
       "    </tr>\n",
       "    <tr>\n",
       "      <th>19</th>\n",
       "      <td>1,88246E+11</td>\n",
       "      <td>United States</td>\n",
       "      <td>Android</td>\n",
       "      <td>FaceBoom</td>\n",
       "      <td>01.05.2019 23:09</td>\n",
       "      <td>01.05.2019 23:21</td>\n",
       "    </tr>\n",
       "  </tbody>\n",
       "</table>\n",
       "</div>"
      ],
      "text/plain": [
       "        User_Id         Region   Device       Channel     Session_Start  \\\n",
       "0   9,81449E+11  United States   iPhone       organic   01.05.2019 2:36   \n",
       "1   2,78966E+11  United States   iPhone       organic   01.05.2019 4:46   \n",
       "2   5,90706E+11  United States      Mac       organic  01.05.2019 14:09   \n",
       "3   3,26434E+11  United States  Android        TipTop   01.05.2019 0:29   \n",
       "4   3,49774E+11  United States      Mac       organic   01.05.2019 3:33   \n",
       "5   43958116050  United States  Android       organic   01.05.2019 9:03   \n",
       "6   1,85365E+11  United States   iPhone       organic   01.05.2019 9:37   \n",
       "7   1,00971E+11  United States      Mac        TipTop   01.05.2019 4:39   \n",
       "8   3,70456E+11  United States   iPhone       organic  01.05.2019 14:44   \n",
       "9   1,41838E+11  United States      Mac      FaceBoom   01.05.2019 6:20   \n",
       "10  9,24309E+11  United States   iPhone       organic  01.05.2019 20:03   \n",
       "11  7,74938E+11  United States   iPhone  MediaTornado  01.05.2019 14:01   \n",
       "12  2,44879E+11  United States   iPhone  MediaTornado   01.05.2019 1:59   \n",
       "13  1,57877E+11  United States      Mac       organic  01.05.2019 10:25   \n",
       "14  5,24629E+11  United States      Mac       organic  01.05.2019 17:06   \n",
       "15  1,36227E+11  United States       PC       organic  01.05.2019 19:34   \n",
       "16  6,84979E+11  United States   iPhone        TipTop   01.05.2019 1:51   \n",
       "17  9,05776E+11  United States   iPhone       organic  01.05.2019 14:26   \n",
       "18  15174034813  United States   iPhone      FaceBoom  01.05.2019 15:34   \n",
       "19  1,88246E+11  United States  Android      FaceBoom  01.05.2019 23:09   \n",
       "\n",
       "         SESSION_End  \n",
       "0    01.05.2019 2:45  \n",
       "1    01.05.2019 4:47  \n",
       "2   01.05.2019 15:32  \n",
       "3    01.05.2019 0:54  \n",
       "4    01.05.2019 3:57  \n",
       "5   01.05.2019 10:08  \n",
       "6   01.05.2019 10:00  \n",
       "7    01.05.2019 4:57  \n",
       "8   01.05.2019 15:41  \n",
       "9    01.05.2019 6:54  \n",
       "10  01.05.2019 20:19  \n",
       "11  01.05.2019 14:29  \n",
       "12   01.05.2019 2:21  \n",
       "13  01.05.2019 10:35  \n",
       "14  01.05.2019 18:05  \n",
       "15  01.05.2019 19:39  \n",
       "16   01.05.2019 2:12  \n",
       "17  01.05.2019 14:35  \n",
       "18  01.05.2019 15:56  \n",
       "19  01.05.2019 23:21  "
      ]
     },
     "execution_count": 3,
     "metadata": {},
     "output_type": "execute_result"
    }
   ],
   "source": [
    "df.head(20)"
   ]
  },
  {
   "cell_type": "markdown",
   "metadata": {
    "id": "Ze-lXxLMhpWv"
   },
   "source": [
    "2.2 Оценка данных с помощью метода info."
   ]
  },
  {
   "cell_type": "code",
   "execution_count": 4,
   "metadata": {
    "id": "bjhngmaLiGM-"
   },
   "outputs": [
    {
     "name": "stdout",
     "output_type": "stream",
     "text": [
      "<class 'pandas.core.frame.DataFrame'>\n",
      "RangeIndex: 957 entries, 0 to 956\n",
      "Data columns (total 6 columns):\n",
      " #   Column         Non-Null Count  Dtype \n",
      "---  ------         --------------  ----- \n",
      " 0   User_Id        957 non-null    object\n",
      " 1   Region         956 non-null    object\n",
      " 2   Device         955 non-null    object\n",
      " 3   Channel        957 non-null    object\n",
      " 4   Session_Start  955 non-null    object\n",
      " 5   SESSION_End    955 non-null    object\n",
      "dtypes: object(6)\n",
      "memory usage: 45.0+ KB\n"
     ]
    }
   ],
   "source": [
    "df.info()"
   ]
  },
  {
   "cell_type": "markdown",
   "metadata": {},
   "source": [
    "---\n",
    "**Пояснение:**\\\n",
    "В наборе данных 957 строк и 6 столбцов;\\\n",
    "Тип данных всех столбцов: строковый;\\\n",
    "Пропуски обнаружены в столбцах ```Region``` (1 штука), ```Device``` (2 штуки), ```Session_Start``` (2 штуки) и ```Session_End``` (2 штуки);\\\n",
    "Эти пропуски нужно будет обработать (например, заполнить модой).\n",
    "\n",
    "---"
   ]
  },
  {
   "cell_type": "markdown",
   "metadata": {
    "id": "06PDq9DAiMAY"
   },
   "source": [
    "2.3 Оценка данных с помощью метода describe."
   ]
  },
  {
   "cell_type": "code",
   "execution_count": 5,
   "metadata": {
    "id": "cTVFwzO1jQfN"
   },
   "outputs": [
    {
     "data": {
      "text/html": [
       "<div>\n",
       "<style scoped>\n",
       "    .dataframe tbody tr th:only-of-type {\n",
       "        vertical-align: middle;\n",
       "    }\n",
       "\n",
       "    .dataframe tbody tr th {\n",
       "        vertical-align: top;\n",
       "    }\n",
       "\n",
       "    .dataframe thead th {\n",
       "        text-align: right;\n",
       "    }\n",
       "</style>\n",
       "<table border=\"1\" class=\"dataframe\">\n",
       "  <thead>\n",
       "    <tr style=\"text-align: right;\">\n",
       "      <th></th>\n",
       "      <th>User_Id</th>\n",
       "      <th>Region</th>\n",
       "      <th>Device</th>\n",
       "      <th>Channel</th>\n",
       "      <th>Session_Start</th>\n",
       "      <th>SESSION_End</th>\n",
       "    </tr>\n",
       "  </thead>\n",
       "  <tbody>\n",
       "    <tr>\n",
       "      <th>count</th>\n",
       "      <td>957</td>\n",
       "      <td>956</td>\n",
       "      <td>955</td>\n",
       "      <td>957</td>\n",
       "      <td>955</td>\n",
       "      <td>955</td>\n",
       "    </tr>\n",
       "    <tr>\n",
       "      <th>unique</th>\n",
       "      <td>865</td>\n",
       "      <td>2</td>\n",
       "      <td>6</td>\n",
       "      <td>4</td>\n",
       "      <td>820</td>\n",
       "      <td>836</td>\n",
       "    </tr>\n",
       "    <tr>\n",
       "      <th>top</th>\n",
       "      <td>1,79085E+11</td>\n",
       "      <td>United States</td>\n",
       "      <td>iPhone</td>\n",
       "      <td>organic</td>\n",
       "      <td>02.05.2019 1:22</td>\n",
       "      <td>02.05.2019 22:49</td>\n",
       "    </tr>\n",
       "    <tr>\n",
       "      <th>freq</th>\n",
       "      <td>4</td>\n",
       "      <td>955</td>\n",
       "      <td>421</td>\n",
       "      <td>612</td>\n",
       "      <td>4</td>\n",
       "      <td>3</td>\n",
       "    </tr>\n",
       "  </tbody>\n",
       "</table>\n",
       "</div>"
      ],
      "text/plain": [
       "            User_Id         Region  Device  Channel    Session_Start  \\\n",
       "count           957            956     955      957              955   \n",
       "unique          865              2       6        4              820   \n",
       "top     1,79085E+11  United States  iPhone  organic  02.05.2019 1:22   \n",
       "freq              4            955     421      612                4   \n",
       "\n",
       "             SESSION_End  \n",
       "count                955  \n",
       "unique               836  \n",
       "top     02.05.2019 22:49  \n",
       "freq                   3  "
      ]
     },
     "execution_count": 5,
     "metadata": {},
     "output_type": "execute_result"
    }
   ],
   "source": [
    "df.describe()"
   ]
  },
  {
   "cell_type": "markdown",
   "metadata": {
    "id": "oOZUrZGuiGqc"
   },
   "source": [
    "---\n",
    "**Пояснение:**\\\n",
    "Была произведена оценка числовых столбцов с помощью ```describe```\\\n",
    "В датасете 957 записей;\\\n",
    "Числовые столбцы отсутствуют.\n",
    "\n",
    "---"
   ]
  },
  {
   "cell_type": "markdown",
   "metadata": {
    "id": "JTbo0IGDiHxn"
   },
   "source": [
    " 2.4 Оценка названий столбцов"
   ]
  },
  {
   "cell_type": "code",
   "execution_count": 6,
   "metadata": {
    "id": "9NEyi2Odik3e"
   },
   "outputs": [
    {
     "data": {
      "text/plain": [
       "Index(['User_Id', 'Region', 'Device', 'Channel', 'Session_Start',\n",
       "       'SESSION_End'],\n",
       "      dtype='object')"
      ]
     },
     "execution_count": 6,
     "metadata": {},
     "output_type": "execute_result"
    }
   ],
   "source": [
    "df.columns"
   ]
  },
  {
   "cell_type": "code",
   "execution_count": 7,
   "metadata": {
    "id": "QSJBLl4qjjP8"
   },
   "outputs": [
    {
     "data": {
      "text/plain": [
       "Index(['user_id', 'region', 'device', 'channel', 'session_start',\n",
       "       'session_end'],\n",
       "      dtype='object')"
      ]
     },
     "execution_count": 7,
     "metadata": {},
     "output_type": "execute_result"
    }
   ],
   "source": [
    "df.columns = df.columns.str.lower()\n",
    "df.columns"
   ]
  },
  {
   "cell_type": "markdown",
   "metadata": {},
   "source": [
    "---\n",
    "**Пояснение:**\\\n",
    "Были выведены на экран названия столбцов. Серьезных проблем в названиях столбцов нет. Был обнаружен деффект в названии последнего столбца ```SESSION_End``` (слово SESSION написано в верхнем регистре, когда как остальные названия как обычные слова: первая буква в верхнем регистре, последующие - в нижнем). Для удобства работы в коде и единого код-стайла все названия были приведены в нижний регистр.\n",
    "\n",
    "---"
   ]
  },
  {
   "cell_type": "markdown",
   "metadata": {
    "id": "V0tLQcyrjnA_"
   },
   "source": [
    "### 3. Проверка пропусков"
   ]
  },
  {
   "cell_type": "code",
   "execution_count": 8,
   "metadata": {
    "id": "xuTz-Avjj9AW"
   },
   "outputs": [
    {
     "data": {
      "text/plain": [
       "user_id          0\n",
       "region           1\n",
       "device           2\n",
       "channel          0\n",
       "session_start    2\n",
       "session_end      2\n",
       "dtype: int64"
      ]
     },
     "execution_count": 8,
     "metadata": {},
     "output_type": "execute_result"
    }
   ],
   "source": [
    "df.isna().sum()"
   ]
  },
  {
   "cell_type": "code",
   "execution_count": 9,
   "metadata": {},
   "outputs": [],
   "source": [
    "df['region'] = df['region'].fillna(\"United States\")\n",
    "df['device'] = df['device'].fillna(\"iPhone\")\n",
    "df['session_start'] = df['session_start'].fillna(\"02.05.2019 1:22\")\n",
    "df['session_end'] = df['session_end'].fillna(\"02.05.2019 22:49\")"
   ]
  },
  {
   "cell_type": "code",
   "execution_count": 10,
   "metadata": {},
   "outputs": [
    {
     "data": {
      "text/plain": [
       "user_id          0\n",
       "region           0\n",
       "device           0\n",
       "channel          0\n",
       "session_start    0\n",
       "session_end      0\n",
       "dtype: int64"
      ]
     },
     "execution_count": 10,
     "metadata": {},
     "output_type": "execute_result"
    }
   ],
   "source": [
    "df.isna().sum()"
   ]
  },
  {
   "cell_type": "markdown",
   "metadata": {
    "id": "efZ7vgSVkPQH"
   },
   "source": [
    "---\n",
    "**Пояснение:**\\\n",
    "Был выбран способ заполнения пропущенных значений значением по умолчанию (медианной заполнить нельзя, так как тип данных строковый, а медиана присутсвует только у числовых типов данных). Удаление строк приведёт к потере лишь небольшой части данных, но даже одна строка может содержать ценную информацию (например, уникальную сессию пользователя). Также присутствует риск смещения: если удалить строки с пропусками, можено случайно исключить определённую группу пользователей (например, тех, кто заходит с редких устройств), что исказит выводы.\n",
    "\n",
    " ---"
   ]
  },
  {
   "cell_type": "markdown",
   "metadata": {
    "id": "kkyrXXHikEXk"
   },
   "source": [
    "### 4. Проверка дубликатов"
   ]
  },
  {
   "cell_type": "markdown",
   "metadata": {
    "id": "ImqHvr3okIQ6"
   },
   "source": [
    "#### Проверка явных дубликатов"
   ]
  },
  {
   "cell_type": "code",
   "execution_count": 11,
   "metadata": {
    "id": "qu1oh-e5lDZ1"
   },
   "outputs": [
    {
     "data": {
      "text/html": [
       "<div>\n",
       "<style scoped>\n",
       "    .dataframe tbody tr th:only-of-type {\n",
       "        vertical-align: middle;\n",
       "    }\n",
       "\n",
       "    .dataframe tbody tr th {\n",
       "        vertical-align: top;\n",
       "    }\n",
       "\n",
       "    .dataframe thead th {\n",
       "        text-align: right;\n",
       "    }\n",
       "</style>\n",
       "<table border=\"1\" class=\"dataframe\">\n",
       "  <thead>\n",
       "    <tr style=\"text-align: right;\">\n",
       "      <th></th>\n",
       "      <th>user_id</th>\n",
       "      <th>region</th>\n",
       "      <th>device</th>\n",
       "      <th>channel</th>\n",
       "      <th>session_start</th>\n",
       "      <th>session_end</th>\n",
       "    </tr>\n",
       "  </thead>\n",
       "  <tbody>\n",
       "    <tr>\n",
       "      <th>480</th>\n",
       "      <td>1,79085E+11</td>\n",
       "      <td>United States</td>\n",
       "      <td>Mac</td>\n",
       "      <td>organic</td>\n",
       "      <td>01.05.2019 7:27</td>\n",
       "      <td>01.05.2019 7:49</td>\n",
       "    </tr>\n",
       "    <tr>\n",
       "      <th>481</th>\n",
       "      <td>1,79085E+11</td>\n",
       "      <td>United States</td>\n",
       "      <td>Mac</td>\n",
       "      <td>organic</td>\n",
       "      <td>01.05.2019 7:27</td>\n",
       "      <td>01.05.2019 7:49</td>\n",
       "    </tr>\n",
       "  </tbody>\n",
       "</table>\n",
       "</div>"
      ],
      "text/plain": [
       "         user_id         region device  channel    session_start  \\\n",
       "480  1,79085E+11  United States    Mac  organic  01.05.2019 7:27   \n",
       "481  1,79085E+11  United States    Mac  organic  01.05.2019 7:27   \n",
       "\n",
       "         session_end  \n",
       "480  01.05.2019 7:49  \n",
       "481  01.05.2019 7:49  "
      ]
     },
     "execution_count": 11,
     "metadata": {},
     "output_type": "execute_result"
    }
   ],
   "source": [
    "df[df.duplicated()]"
   ]
  },
  {
   "cell_type": "code",
   "execution_count": 12,
   "metadata": {
    "id": "ntArgvChkK26"
   },
   "outputs": [
    {
     "name": "stdout",
     "output_type": "stream",
     "text": [
      "0\n"
     ]
    }
   ],
   "source": [
    "df = df.drop_duplicates().reset_index(drop = True)\n",
    "print(df.duplicated().sum())"
   ]
  },
  {
   "cell_type": "markdown",
   "metadata": {},
   "source": [
    "---\n",
    "**Пояснение:**\\\n",
    "Команда ```df.duplicated()``` проверяет, есть ли дубликаты строк в таблице. Возвращает колонку из True и False:\n",
    "* True - строка является дубликатом (повторяется);\n",
    "* False - уникальная строка;\n",
    "  \n",
    "Команда ```df = df.drop_duplicates().reset_index(drop = True)``` удаляет дубликаты и обновляет индексы строк (чтобы потом при обращении к строкам не было пропусков в номерах).\n",
    "\n",
    "Команда ```print(df.duplicated().sum())``` выводит на экран количество строк-дубликатов"
   ]
  },
  {
   "cell_type": "markdown",
   "metadata": {
    "id": "VeHTMcOmkLSw"
   },
   "source": [
    "#### Проверка неявных дубликатов"
   ]
  },
  {
   "cell_type": "code",
   "execution_count": 13,
   "metadata": {
    "id": "-uOPKHlVlGo8"
   },
   "outputs": [
    {
     "name": "stdout",
     "output_type": "stream",
     "text": [
      "region ['United States' 'USA']\n",
      "device ['iPhone' 'Mac' 'Android' 'PC' 'MAC' 'IPHONE']\n",
      "channel ['organic' 'TipTop' 'FaceBoom' 'MediaTornado']\n"
     ]
    }
   ],
   "source": [
    "unique_c = ['region', 'device', 'channel']\n",
    "for i in unique_c:\n",
    "  print(i, df[i].unique())"
   ]
  },
  {
   "cell_type": "code",
   "execution_count": 14,
   "metadata": {
    "id": "89tMFEQ2k_M7"
   },
   "outputs": [
    {
     "name": "stdout",
     "output_type": "stream",
     "text": [
      "region\n",
      "United States    954\n",
      "USA                1\n",
      "Name: count, dtype: int64\n",
      "device\n",
      "iPhone     423\n",
      "Mac        241\n",
      "Android    185\n",
      "PC         103\n",
      "IPHONE       2\n",
      "MAC          1\n",
      "Name: count, dtype: int64\n",
      "channel\n",
      "organic         610\n",
      "FaceBoom        149\n",
      "TipTop          143\n",
      "MediaTornado     53\n",
      "Name: count, dtype: int64\n"
     ]
    }
   ],
   "source": [
    "for i in unique_c:\n",
    "  print(df[i].value_counts())"
   ]
  },
  {
   "cell_type": "code",
   "execution_count": 15,
   "metadata": {},
   "outputs": [
    {
     "name": "stdout",
     "output_type": "stream",
     "text": [
      "region ['United States']\n",
      "device ['iPhone' 'Mac' 'Android' 'PC']\n",
      "channel ['organic' 'TipTop' 'FaceBoom' 'MediaTornado']\n"
     ]
    }
   ],
   "source": [
    "df['region'] = df['region'].replace('USA', 'United States')\n",
    "df['device'] = df['device'].replace('MAC', 'Mac')\n",
    "df['device'] = df['device'].replace('IPHONE', 'iPhone')\n",
    "for i in unique_c:\n",
    "  print(i, df[i].unique())"
   ]
  },
  {
   "cell_type": "markdown",
   "metadata": {
    "id": "GMcnDpOmlKhU"
   },
   "source": [
    "---\n",
    "**Пояснение:**\\\n",
    "В данных были обнаружены неявные дубликаты:\n",
    "* ```region``` - дублируется United States и USA\n",
    "* ```device``` - дублируется названия устройств iPhone - IPHONE, Mac - MAC\n",
    "  \n",
    "Эти проблемы нужно исправить на этапе предобработки, чтобы анализ был корректным.\\\n",
    "Все неявные дубликаты устранены. Данные приведены к корректному виду, теперь с ними можно уверенно работать дальше: строить группировки, сводные таблицы и анализировать.\n",
    "\n",
    " ---"
   ]
  },
  {
   "cell_type": "markdown",
   "metadata": {
    "id": "md9GhfYMlbi7"
   },
   "source": [
    "### 5. Провека типов данных"
   ]
  },
  {
   "cell_type": "code",
   "execution_count": 16,
   "metadata": {
    "id": "lXTroENaluCW"
   },
   "outputs": [
    {
     "data": {
      "text/plain": [
       "user_id          object\n",
       "region           object\n",
       "device           object\n",
       "channel          object\n",
       "session_start    object\n",
       "session_end      object\n",
       "dtype: object"
      ]
     },
     "execution_count": 16,
     "metadata": {},
     "output_type": "execute_result"
    }
   ],
   "source": [
    "df.dtypes"
   ]
  },
  {
   "cell_type": "code",
   "execution_count": 17,
   "metadata": {
    "id": "WXhXgu29lop3"
   },
   "outputs": [
    {
     "name": "stdout",
     "output_type": "stream",
     "text": [
      "user_id                  object\n",
      "region                 category\n",
      "device                 category\n",
      "channel                category\n",
      "session_start    datetime64[ns]\n",
      "session_end      datetime64[ns]\n",
      "dtype: object\n"
     ]
    }
   ],
   "source": [
    "df['region'] = df['region'].astype('category')\n",
    "df['device'] = df['device'].astype('category')\n",
    "df['channel'] = df['channel'].astype('category')\n",
    "\n",
    "df['session_start'] = pd.to_datetime(df['session_start'], format='%d.%m.%Y %H:%M')\n",
    "df['session_end'] = pd.to_datetime(df['session_end'], format='%d.%m.%Y %H:%M')\n",
    "\n",
    "print(df.dtypes)"
   ]
  },
  {
   "cell_type": "markdown",
   "metadata": {
    "id": "DPDBNN4dlx7W"
   },
   "source": [
    "---\n",
    "**Пояснение:**\n",
    "* ```user_id``` - идентификатор пользователя: большое число, записанное в экспоненциальном виде, оставляем object (str);\n",
    "* ```region``` - страна проживания: категориальная переменная, т.к. ограниченное число записей (переводим в category);\n",
    "* ```device``` - устройство: категориальная переменная, т.к. ограниченное число записей (переводим в category);\n",
    "* ```channel``` - идентификатор рекламного источника: категориальная переменная, т.к. ограниченное число записей (переводим в category);\n",
    "* ```session_start``` и ```session_end``` - начало и конец сессии: дата и время (переводим в datetime).\n",
    "\n",
    "Проверка показала, что некоторые типы данных определны неверно:\\\n",
    "```region```, ```device``` и ```channel``` определены как object, что в целом правильно, но логичнее использовать 'category', т.к. их ограниченное кол-во.\\\n",
    "```session_start``` и ```session_end``` pandas определил по умолчанию как object, но это дата и время, соответсвенно было выполнено преобразование в тип данных datetime с соответсвующим записям форматом.\n",
    "\n",
    " ---"
   ]
  },
  {
   "cell_type": "markdown",
   "metadata": {
    "id": "lzr0SgqlnmHy"
   },
   "source": [
    "### 6. Группировка данных"
   ]
  },
  {
   "cell_type": "markdown",
   "metadata": {
    "id": "QG_dbwzfmZoS"
   },
   "source": [
    "#### Задание 1"
   ]
  },
  {
   "cell_type": "markdown",
   "metadata": {
    "id": "CyCKTB4DmciW"
   },
   "source": [
    "Группировка - device и количество рекламных источников каждого\n",
    "типа (channel)."
   ]
  },
  {
   "cell_type": "code",
   "execution_count": 19,
   "metadata": {
    "id": "tp8Bl1gumYlI"
   },
   "outputs": [
    {
     "name": "stdout",
     "output_type": "stream",
     "text": [
      "device   channel     \n",
      "Android  FaceBoom         33\n",
      "         MediaTornado     11\n",
      "         TipTop           26\n",
      "         organic         115\n",
      "Mac      FaceBoom         36\n",
      "         MediaTornado     10\n",
      "         TipTop           24\n",
      "         organic         172\n",
      "PC       FaceBoom         15\n",
      "         MediaTornado      2\n",
      "         TipTop           14\n",
      "         organic          72\n",
      "iPhone   FaceBoom         65\n",
      "         MediaTornado     30\n",
      "         TipTop           79\n",
      "         organic         251\n",
      "Name: user_id, dtype: int64\n"
     ]
    },
    {
     "name": "stderr",
     "output_type": "stream",
     "text": [
      "/tmp/ipykernel_5805/3631785592.py:1: FutureWarning: The default of observed=False is deprecated and will be changed to True in a future version of pandas. Pass observed=False to retain current behavior or observed=True to adopt the future default and silence this warning.\n",
      "  print(df.groupby(['device', 'channel'])['user_id'].count())\n"
     ]
    }
   ],
   "source": [
    "print(df.groupby(['device', 'channel'])['user_id'].count())"
   ]
  },
  {
   "cell_type": "markdown",
   "metadata": {
    "id": "jLmhNuq0mms3"
   },
   "source": [
    "---\n",
    "**Пояснение:**\n",
    "* Основной источник трафика — органический (organic);\n",
    "* iPhone доминирует среди устройств;\n",
    "* Рекламные каналы показывают разную эффективность;\n",
    "* Настольные устройства (Mac, PC) используются реже, но стабильно;\n",
    "* Android-аудитория меньше, чем iPhone, несмотря на глобальное превосходство Android в рынке.\n",
    "\n",
    "---"
   ]
  },
  {
   "cell_type": "markdown",
   "metadata": {
    "id": "j0isGCzEne7a"
   },
   "source": [
    "#### Задание 2"
   ]
  },
  {
   "cell_type": "markdown",
   "metadata": {
    "id": "kE2vLBWbne7a"
   },
   "source": [
    "Группировка - region и количество устройств (device ). Создать датафрейм. Переименовать столбец с количеством в “сountˮ. Отсортировать по\n",
    "убыванию столбца “countˮ."
   ]
  },
  {
   "cell_type": "code",
   "execution_count": 20,
   "metadata": {
    "id": "ttn78Zaene7a"
   },
   "outputs": [
    {
     "name": "stdout",
     "output_type": "stream",
     "text": [
      "          region   device  count\n",
      "3  United States   iPhone    425\n",
      "1  United States      Mac    242\n",
      "0  United States  Android    185\n",
      "2  United States       PC    103\n"
     ]
    }
   ],
   "source": [
    "counts = df.groupby(['region', 'device'], observed = True).size()\n",
    "df_group = counts.reset_index()\n",
    "df_group.columns = ['region', 'device', 'count']\n",
    "df_group = df_group.sort_values(by='count', ascending=False)\n",
    "print(df_group)"
   ]
  },
  {
   "cell_type": "markdown",
   "metadata": {
    "id": "HCyyeAu6ne7a"
   },
   "source": [
    "---\n",
    "**Пояснение:**\\\n",
    "Данные отражают количество сессий (или записей) по комбинациям регион — устройство, отсортированных по убыванию.\n",
    "* Пользователи сосредоточены в одном регионе — США;\n",
    "* iPhone — лидер по использованию;\n",
    "* Mac — второе по популярности устройство;\n",
    "* Android — ниже ожидаемого уровня;\n",
    "* PC — наименее активная платформа\n",
    "\n",
    "Ядро аудитории — это пользователи из США, в основном с iPhone и Mac. Это позволяет сделать вывод, что продукт лучше всего адаптирован под экосистему Apple и аудиторию с высоким уровнем вовлечённости.\n",
    "\n",
    "---"
   ]
  },
  {
   "cell_type": "markdown",
   "metadata": {
    "id": "_3fHGp64nhUJ"
   },
   "source": [
    "#### Задание 3"
   ]
  },
  {
   "cell_type": "markdown",
   "metadata": {
    "id": "_Bc4ehyKnhUJ"
   },
   "source": [
    "Сводная таблица (pivot_table) - уникальное количество пользователей для каждого устройства (device). Отсортировать по убыванию количества."
   ]
  },
  {
   "cell_type": "code",
   "execution_count": 21,
   "metadata": {
    "id": "siDovPvQnhUJ"
   },
   "outputs": [
    {
     "name": "stdout",
     "output_type": "stream",
     "text": [
      "         user_id\n",
      "device          \n",
      "iPhone       387\n",
      "Mac          223\n",
      "Android      169\n",
      "PC            90\n"
     ]
    }
   ],
   "source": [
    "pivot_users = df.pivot_table(\n",
    "    index='device',       \n",
    "    values='user_id',\n",
    "    aggfunc='nunique',\n",
    "    observed=True\n",
    ").sort_values(by='user_id', ascending=False)\n",
    "print(pivot_users)"
   ]
  },
  {
   "cell_type": "markdown",
   "metadata": {
    "id": "1-vw8iyUnhUK"
   },
   "source": [
    "---\n",
    "**Пояснение:**\\\n",
    "Целевая аудитория — в основном пользователи экосистемы Apple: они доминируют как на мобильных (iPhone), так и на настольных (Mac) платформах. Продукт лучше всего адаптирован под iOS и macOS — это преимущество, которое нужно поддерживать и развивать. Android и PC — зоны роста: потенциал расширения аудитории лежит в улучшении опыта для этих пользователей.\n",
    "\n",
    "---"
   ]
  },
  {
   "cell_type": "markdown",
   "metadata": {
    "id": "FOlw74xCniNo"
   },
   "source": [
    "#### Задание 4"
   ]
  },
  {
   "cell_type": "markdown",
   "metadata": {
    "id": "4tvYwT25niNq"
   },
   "source": [
    "Сводная таблица (pivot_table) - уникальное количество пользователей для каждого устройства (device) - столбцы и региона- строки. Отсортировать по возрастанию столбца region."
   ]
  },
  {
   "cell_type": "code",
   "execution_count": 22,
   "metadata": {
    "id": "TfJ719g6niNq"
   },
   "outputs": [
    {
     "name": "stdout",
     "output_type": "stream",
     "text": [
      "device                      Android  Mac  PC  iPhone\n",
      "region        channel                               \n",
      "United States FaceBoom           32   32  13      63\n",
      "              MediaTornado       11    9   2      25\n",
      "              TipTop             19   22  10      69\n",
      "              organic           108  160  65     232\n"
     ]
    }
   ],
   "source": [
    "pivot_users = df.pivot_table(\n",
    "    index=['region','channel'], \n",
    "    columns='device', \n",
    "    values='user_id',\n",
    "    aggfunc='nunique',  \n",
    "    observed=True        \n",
    ").sort_index(ascending=True)\n",
    "print(pivot_users)"
   ]
  },
  {
   "cell_type": "markdown",
   "metadata": {
    "id": "tIkuqJKUniNs"
   },
   "source": [
    "---\n",
    "**Пояснение:**\n",
    "* Целевая аудитория — преимущественно пользователи из США, использующие устройства Apple;\n",
    "* Сервис лучше всего воспринимается и используется в экосистеме Apple (iPhone + Mac);\n",
    "* Платформы Android и PC явно уступают, что указывает на потенциал роста через улучшение кросс-платформенной поддержки.\n",
    "\n",
    " ---"
   ]
  },
  {
   "cell_type": "markdown",
   "metadata": {
    "id": "TpnXb6gip3S8"
   },
   "source": [
    "### Вывод"
   ]
  },
  {
   "cell_type": "markdown",
   "metadata": {
    "id": "nqLa096jM1Z8"
   },
   "source": [
    "В ходе работы был проведён анализ набора данных ```visits.csv```, содержащего информацию о 957 пользовательских сессиях на цифровой платформе. Данные относятся к предметной области анализа пользовательского поведения и включают сведения об уникальном идентификаторе пользователя, регионе, типе устройства, канале привлечения и временных метках начала и окончания сессии. На этапе предобработки были выявлены и устранены пропуски в столбцах Region, Device, Session_Start и Session_End путём заполнения модой — наиболее частым значением в каждом столбце, что позволило сохранить целостность данных без потери строк. Идентификаторы пользователей, представленные в научной нотации (например, 9,81449E+11), были интерпретированы как строки, чтобы избежать потери точности и некорректного округления. Категориальные признаки — такие как Region, Device и Channel — были преобразованы в тип category для оптимизации памяти и повышения производительности операций. \n",
    "\n",
    "Анализ группировок показал, что подавляющее большинство пользователей (все зафиксированные сессии) находятся в регионе «United States», что указывает на географическую сосредоточенность аудитории. Среди устройств лидером является iPhone (425 сессий), за ним следуют Mac (242), Android (185) и PC (103). Это свидетельствует о доминировании экосистемы Apple в аудитории сервиса. Построение сводных таблиц выявило, что наибольшее количество уникальных пользователей также приходится на iPhone (387), далее следуют Mac (223), Android (169) и PC (90). Таким образом, основная и наиболее активная аудитория — это пользователи из США, использующие устройства Apple. \n",
    "\n",
    "Дополнительно была исследована связь между каналами привлечения и типами устройств, что позволило оценить эффективность маркетинговых стратегий. Установлено, что органический трафик (organic) является основным источником по всем платформам, особенно силён на iPhone и Mac, тогда как рекламные каналы вроде FaceBoom, TipTop и MediaTornado демонстрируют меньший, но значимый охват. Это даёт возможность оптимизировать маркетинговые бюджеты и фокусироваться на наиболее продуктивных каналах. \n",
    "\n",
    "В целом проведённое исследование показало, что пользовательская база сервиса географически и технологически концентрирована: основная аудитория — это пользователи из США, преимущественно использующие iPhone и Mac. Такая картина требует дальнейшей работы по расширению охвата на другие регионы и платформы, особенно Android и международные рынки, а также более глубокого анализа поведения пользователей на разных устройствах. \n",
    "\n",
    "В лабораторной работе осуществлялась работа с библиотекой pandas. Были изучены типы данных, методы индексации, обработки пропусков и категориальных переменных. На практике были реализованы загрузка данных, удаление дубликатов, преобразование типов, группировка и агрегация. Также были применены сводные таблицы и получены выводы на основе многомерного анализа, что позволило глубже понять структуру пользовательской активности. "
   ]
  },
  {
   "cell_type": "markdown",
   "metadata": {
    "id": "Sn3y7og_vjGG"
   },
   "source": [
    "### Дополнительное задание"
   ]
  },
  {
   "cell_type": "markdown",
   "metadata": {
    "id": "rR6WgHXYvlqD"
   },
   "source": [
    "### №7\n",
    "Добавить столбец - “Длительность сессииˮ (расчетный). Создать столбец “Категория длительностиˮ (с помощью категоризации). Выделить минимум категории (низкая, высокая, средняя), фильтрацию для уровня длительность выбрать самостоятельно, аргументировать выбор. Создать сводную таблицу: средняя и медианная длительность сессии по устройству и категории длительности"
   ]
  },
  {
   "cell_type": "code",
   "execution_count": 23,
   "metadata": {
    "id": "wG5TGQpevlBq"
   },
   "outputs": [],
   "source": [
    "df['duration_minutes'] = (df['session_end'] - df['session_start']).dt.total_seconds() / 60"
   ]
  },
  {
   "cell_type": "markdown",
   "metadata": {},
   "source": [
    "**Аргументация выбора:** \n",
    "* < 5 мин — пользователь быстро вошёл и вышел: возможно, проверил уведомление или потерял интерес.\n",
    "* 5–30 мин — умеренная активность: просмотр контента, навигация.\n",
    "* '>' 30 мин — высокая вовлечённость: глубокое взаимодействие, совершение целевых действий"
   ]
  },
  {
   "cell_type": "code",
   "execution_count": 24,
   "metadata": {},
   "outputs": [
    {
     "name": "stdout",
     "output_type": "stream",
     "text": [
      "                           mean_duration  median_duration\n",
      "device  duration_category                                \n",
      "Android High                       57.90             53.0\n",
      "        Low                         2.33              2.0\n",
      "        Mean                       15.37             14.0\n",
      "Mac     High                       56.81             50.0\n",
      "        Low                         1.96              2.0\n",
      "        Mean                       16.04             15.0\n",
      "PC      High                       60.05             51.0\n",
      "        Low                         2.25              2.0\n",
      "        Mean                       15.75             16.0\n",
      "iPhone  High                       73.92             51.0\n",
      "        Low                         2.22              2.0\n",
      "        Mean                       16.11             15.0\n"
     ]
    }
   ],
   "source": [
    "def categorize_duration(minutes):\n",
    "    if minutes < 5:\n",
    "        return 'Low'\n",
    "    elif minutes <= 30:\n",
    "        return 'Mean'\n",
    "    else:\n",
    "        return 'High'\n",
    "\n",
    "df['duration_category'] = df['duration_minutes'].apply(categorize_duration)\n",
    "\n",
    "pivot_table = df.pivot_table(\n",
    "    index=['device', 'duration_category'],\n",
    "    values='duration_minutes',\n",
    "    aggfunc={'duration_minutes': ['mean', 'median']},\n",
    "    observed = True\n",
    ").round(2)\n",
    "\n",
    "pivot_table.columns = ['mean_duration', 'median_duration']\n",
    "pivot_table = pivot_table.sort_index()\n",
    "print(pivot_table)"
   ]
  },
  {
   "cell_type": "markdown",
   "metadata": {
    "id": "y-qpTuhTvon3"
   },
   "source": [
    "**Алгоритм работы**\n",
    "\n",
    "Код анализирует длительность сессий пользователей, группируя их по типу устройства и продолжительности. Сначала функция categorize_duration(minutes) присваивает каждой сессии категорию: 'Low' (меньше 5 минут), 'Mean' (от 5 до 30 минут) или 'High' (больше 30 минут). Эта функция применяется к столбцу duration_minutes с помощью метода .apply(), создавая новый столбец duration_category. \n",
    "\n",
    "Затем с помощью pivot_table() данные группируются по двум признакам — device и duration_category, и для каждой группы рассчитываются среднее (mean) и медиана (median) значений длительности. Параметр observed=True учитывает только реально встречающиеся категории. Результат округляется до двух знаков после запятой с помощью .round(2). \n",
    "\n",
    "Далее столбцы сводной таблицы переименовываются в mean_duration и median_duration для удобства, а .sort_index() сортирует строки по устройствам и категориям. В конце таблица выводится с помощью print(). Это позволяет наглядно сравнить поведение пользователей на разных устройствах в зависимости от длительности сессий. \n",
    "\n",
    "**Вывод по полученным данным**\n",
    "\n",
    "iPhone демонстрирует наибольшую среднюю продолжительность сессий в \"High\" категории — 73.92, что значительно выше, чем у других устройств. При этом медианы у всех устройств в категории High близки (~50–53), кроме iPhone, где медиана (51.0) существенно ниже среднего. Это указывает на наличие выбросов (длинных сессий) у пользователей iPhone, которые \"тянут\" среднее вверх.\\\n",
    "Оставшиеся три устройства имеют близкие значения как среднего, так и медианы.\n",
    "В категории High:\n",
    "* PC — чуть лучше (60.05)\n",
    "* Mac — 56.81\n",
    "* Android — 57.90\n",
    "  \n",
    "Разница между средним и медианой небольшая, следовательно, распределение более равномерное, меньше влияния выбросов.\\\n",
    "Low-категория: почти одинакова для всех \n",
    "* Все устройства имеют очень близкие средние и медианы в Low категории (~2.0–2.3 минуты).\n",
    "* Это говорит о том, что очень короткие сессии у всех устройств примерно одинаковы по длительности.\n",
    "     \n",
    "     "
   ]
  },
  {
   "cell_type": "markdown",
   "metadata": {},
   "source": [
    "### №12\n",
    "Добавить столбец - “Длительность сессииˮ (расчетный). Отфильтровать набор данных. Выбрать только те записи, средняя длительность на которых выше определенного числа (число выбрать самостоятельно). Для отфильтрованного набора данных выполнить группировку: тип устройства и средняя+медианная длительность."
   ]
  },
  {
   "cell_type": "code",
   "execution_count": 28,
   "metadata": {},
   "outputs": [
    {
     "name": "stdout",
     "output_type": "stream",
     "text": [
      "    device  mean_plus_median_duration\n",
      "0   iPhone                      78.17\n",
      "1       PC                      73.90\n",
      "2  Android                      70.90\n",
      "3      Mac                      65.56\n"
     ]
    },
    {
     "name": "stderr",
     "output_type": "stream",
     "text": [
      "/tmp/ipykernel_5805/304737673.py:7: FutureWarning: The default of observed=False is deprecated and will be changed to True in a future version of pandas. Pass observed=False to retain current behavior or observed=True to adopt the future default and silence this warning.\n",
      "  result = filtered_df.groupby('device')['duration_minutes'].agg(\n"
     ]
    }
   ],
   "source": [
    "df['duration_minutes'] = (df['session_end'] - df['session_start']).dt.total_seconds() / 60\n",
    "\n",
    "threshold = 10\n",
    "\n",
    "filtered_df = df[df['duration_minutes'] > threshold]\n",
    "\n",
    "result = filtered_df.groupby('device')['duration_minutes'].agg(\n",
    "    mean_plus_median_duration=lambda x: x.mean() + x.median()\n",
    ").round(2).sort_values(by='mean_plus_median_duration', ascending=False)\n",
    "\n",
    "result = result.reset_index()\n",
    "\n",
    "print(result)"
   ]
  },
  {
   "cell_type": "markdown",
   "metadata": {},
   "source": [
    "**Алгоритм работы**\n",
    "\n",
    "Этот код анализирует длительность пользовательских сессий, оставляя только те, что длились более 10 минут, и сравнивает поведение пользователей на разных устройствах. Сначала с помощью .dt.total_seconds() вычисляется разница между временем окончания и начала сессии в секундах, которая затем делением на 60 переводится в минуты — результат сохраняется в столбец duration_minutes. Далее, с помощью логической фильтрации (df['duration_minutes'] > threshold) отбираются только сессии длиннее 10 минут, чтобы исключить краткие или случайные заходы.   \n",
    "Затем методом .groupby('device') данные группируются по типу устройства (например, mobile, desktop), а функция .agg() применяет пользовательскую агрегацию: суммирует среднее (mean()) и медианное (median()) значение длительности для каждой группы. Это позволяет получить комплексную метрику, отражающую общую тенденцию длительности сессий.   \n",
    "\n",
    "Результат округляется с помощью .round(2), сортируется по убыванию — .sort_values(..., ascending=False) — и преобразуется в обычный DataFrame с помощью .reset_index(), чтобы устройство стало столбцом.   \n",
    "\n",
    "В конце таблица выводится через print(result).   \n",
    "\n",
    "Был проведён анализ пользовательских сессий на разных устройствах. Были отобраны только сессии дольше 10 минут, чтобы сосредоточиться на осмысленном взаимодействии с платформой (исключены краткие заходы). Для каждого типа устройства рассчитана сумма средней и медианной длительности сессии в минутах, что даёт комплексную оценку поведения пользователей.\\\n",
    "**iPhone — лидер по вовлечённости** \n",
    "* Сумма среднего и медианного времени: 78.17\n",
    "* Это наибольшее значение среди всех устройств.\n",
    "\n",
    "**PC и Android — на втором и третьем месте** \n",
    "* PC: 73.90\n",
    "* Android: 70.90\n",
    "* Разница между ними — 3 минуты, что говорит о близком уровне вовлечённости.\n",
    "* PC традиционно используется для задач, требующих времени (работа, учёба), поэтому высокие значения ожидаемы.\n",
    "* Android показывает сильный результат, уступая PC менее чем на 4%, несмотря на более фрагментированный характер использования (мобильное поведение).\n",
    "\n",
    "**Mac — замыкает список**\n",
    "* Суммарный показатель: 65.56\n",
    "* При этом Mac — тоже устройство Apple, но его результат ниже, чем у iPhone."
   ]
  },
  {
   "cell_type": "markdown",
   "metadata": {},
   "source": [
    "### №17\n",
    "Добавить столбец - “Длительность сессииˮ (расчетный). Отфильтровать набор данных. Выбрать только те записи, средняя длительность на которых ниже определенного числа (число выбрать самостоятельно) + топ 2 устройство по средней длительности сессии + топ 2 канала привлечения по количеству записей . Для отфильтрованного набора данных создать сводную таблицу: канал, устройство и средняя длительность сессии."
   ]
  },
  {
   "cell_type": "code",
   "execution_count": 31,
   "metadata": {},
   "outputs": [],
   "source": [
    "df['duration_minutes'] = (df['session_end'] - df['session_start']).dt.total_seconds() / 60\n",
    "\n",
    "threshold = 5\n",
    "filtered_df = df[df['duration_minutes'] < threshold]"
   ]
  },
  {
   "cell_type": "code",
   "execution_count": 33,
   "metadata": {},
   "outputs": [
    {
     "name": "stdout",
     "output_type": "stream",
     "text": [
      "TOP-2 devices by mean duration:\n",
      "device\n",
      "Android    2.33\n",
      "PC         2.25\n",
      "Name: duration_minutes, dtype: float64\n"
     ]
    },
    {
     "name": "stderr",
     "output_type": "stream",
     "text": [
      "/tmp/ipykernel_5805/2438802635.py:2: FutureWarning: The default of observed=False is deprecated and will be changed to True in a future version of pandas. Pass observed=False to retain current behavior or observed=True to adopt the future default and silence this warning.\n",
      "  filtered_df.groupby('device')['duration_minutes']\n"
     ]
    }
   ],
   "source": [
    "top2_devices = (\n",
    "    filtered_df.groupby('device')['duration_minutes']\n",
    "    .mean()\n",
    "    .sort_values(ascending=False)\n",
    "    .head(2)\n",
    "    .round(2)\n",
    ")\n",
    "print(\"TOP-2 devices by mean duration:\")\n",
    "print(top2_devices)"
   ]
  },
  {
   "cell_type": "code",
   "execution_count": 35,
   "metadata": {},
   "outputs": [
    {
     "name": "stdout",
     "output_type": "stream",
     "text": [
      "TOP-2 channels by count:\n",
      "channel\n",
      "organic    75\n",
      "TipTop     22\n",
      "Name: count, dtype: int64\n"
     ]
    }
   ],
   "source": [
    "top2_channels = (\n",
    "    filtered_df['channel']\n",
    "    .value_counts()\n",
    "    .head(2)\n",
    ")\n",
    "print(\"TOP-2 channels by count:\")\n",
    "print(top2_channels)"
   ]
  },
  {
   "cell_type": "code",
   "execution_count": 36,
   "metadata": {},
   "outputs": [
    {
     "name": "stdout",
     "output_type": "stream",
     "text": [
      "Pivot table (mean duration, minutes):\n",
      "device        Android   Mac    PC  iPhone\n",
      "channel                                  \n",
      "FaceBoom          2.0  1.00  2.00    2.70\n",
      "MediaTornado      4.0  4.00  0.00    2.67\n",
      "TipTop            2.0  2.00  3.00    1.93\n",
      "organic           2.4  1.95  2.23    2.09\n"
     ]
    },
    {
     "name": "stderr",
     "output_type": "stream",
     "text": [
      "/tmp/ipykernel_5805/4108033468.py:1: FutureWarning: The default value of observed=False is deprecated and will change to observed=True in a future version of pandas. Specify observed=False to silence this warning and retain the current behavior\n",
      "  pivot_table = filtered_df.pivot_table(\n"
     ]
    }
   ],
   "source": [
    "pivot_table = filtered_df.pivot_table(\n",
    "    values='duration_minutes',\n",
    "    index='channel',\n",
    "    columns='device',\n",
    "    aggfunc='mean',\n",
    "    fill_value=0\n",
    ").round(2)\n",
    "\n",
    "pivot_table = pivot_table.sort_index()\n",
    "\n",
    "print(\"Pivot table (mean duration, minutes):\")\n",
    "print(pivot_table)"
   ]
  },
  {
   "cell_type": "markdown",
   "metadata": {},
   "source": [
    "**Алгоритм работы**\n",
    "\n",
    "Код анализирует короткие пользовательские сессии (менее 5 минут), выявляя топ-устройства и источники трафика, а также строя сводную таблицу по средней длительности. Сначала длительность сессий в минутах вычисляется как разница между session_end и session_start с помощью .dt.total_seconds() / 60, результат сохраняется в столбец duration_minutes. Затем с помощью фильтрации df['duration_minutes'] < threshold (где threshold = 5) отбираются только короткие сессии — они сохраняются в filtered_df. Далее метод .groupby('device').mean() группирует данные по устройствам и вычисляет среднюю длительность для каждого, затем .sort_values(ascending=False) сортирует их по убыванию, а .head(2) выбирает топ-2 устройства по среднему времени; результат округляется через .round(2) и выводится. Аналогично, .value_counts() подсчитывает количество сессий по каналам (channel), и .head(2) возвращает топ-2 самых частых каналов. Затем с помощью .pivot_table() создаётся сводная таблица: в строках — channel, в столбцах — device, значения — средняя длительность сессий (aggfunc='mean'), пропущенные значения заменяются на 0 (fill_value=0). Результат округляется и сортируется по индексу (каналам) с помощью .sort_index(). В конце все три результата — топ-2 устройства, топ-2 канала и сводная таблица — выводятся на экран с помощью print(). Это позволяет комплексно оценить поведение пользователей в коротких сессиях. \n",
    "\n",
    "Были отфильтрованы только короткие сессии: менее 5 минут. Это позволяет проанализировать поведение пользователей, которые:\n",
    "* быстро зашли и вышли\n",
    "* не успели глубоко взаимодействовать\n",
    "* возможно, \"отскочили\" от контента\n",
    "     "
   ]
  },
  {
   "cell_type": "markdown",
   "metadata": {},
   "source": [
    "**Android — лидер по времени в коротких сессиях** \n",
    "* Средняя длительность — 2.33 мин, выше всех.\n",
    "* Особенно выделяется канал MediaTornado (4.00 мин).\n",
    "* Это говорит о высокой вовлечённости пользователей Android в определённых рекламных кампаниях.\n",
    "     \n",
    "**iPhone — стабильный, но не рекордный** \n",
    "* Лучший результат — FaceBoom (2.70), худший — TipTop (1.93).\n",
    "* Показывает, что качество канала критично для iOS-пользователей.\n",
    "     \n",
    "**Mac и PC — слабее в коротких сессиях** \n",
    "* Низкие средние значения.\n",
    "* PC: 0.00 в MediaTornado — тревожный сигнал: возможно, ошибка редиректа или плохая адаптация.\n",
    "* Mac в целом ниже остальных — малая выборка или низкая конверсия.\n",
    "     \n",
    "**Рекламные каналы: MediaTornado — эффективен для Android/Mac** \n",
    "* Показал лучшие результаты (4.00 мин).\n",
    "* Значит, он привлекает более вовлечённую аудиторию на эти устройства.\n",
    "* Но провал на PC — требует проверки технической интеграции.\n",
    "     \n",
    "**Organic — стабильный, но не впечатляющий** \n",
    "* Все значения около 2.0–2.4 мин.\n",
    "* Нет выбросов вверх или вниз — типичное поведение \"нейтрального\" трафика.\n",
    "* Не худший, но и не лучший — потенциал для улучшения UX.\n",
    "     "
   ]
  },
  {
   "cell_type": "markdown",
   "metadata": {},
   "source": [
    "### №24\n",
    "Добавить столбец - “Длительность сессииˮ (расчетный). Создать столбец “Категория длительностиˮ (с помощью категоризации). Выделить минимум 3 категории (низкая, высокая, средняя), фильтрацию для уровня длительности выбрать самостоятельно, аргументировать выбор. Отфильтровать набор данных. Выбрать только высокую и низкую длительность сессии + топ 2 устройства по среднему времени сессии. Создать группировку: средняя, минимальная, максимальная, медианная длительность сессии по уйстройству."
   ]
  },
  {
   "cell_type": "code",
   "execution_count": 40,
   "metadata": {},
   "outputs": [],
   "source": [
    "df['duration_minutes'] = (df['session_end'] - df['session_start']).dt.total_seconds() / 60\n",
    "\n",
    "def categorize_duration(duration):\n",
    "    if duration < 5:\n",
    "        return 'Low'\n",
    "    elif duration <= 30:\n",
    "        return 'Mean'\n",
    "    else:\n",
    "        return 'High'\n",
    "\n",
    "df['duration_category'] = df['duration_minutes'].apply(categorize_duration)\n",
    "filtered_df = df[df['duration_category'].isin(['Low', 'High'])]"
   ]
  },
  {
   "cell_type": "markdown",
   "metadata": {},
   "source": [
    "**Аргументация выбора:** \n",
    "* < 5 мин — пользователь быстро вошёл и вышел: возможно, проверил уведомление или потерял интерес.\n",
    "* 5–30 мин — умеренная активность: просмотр контента, навигация.\n",
    "* '>' 30 мин — высокая вовлечённость: глубокое взаимодействие, совершение целевых действий"
   ]
  },
  {
   "cell_type": "code",
   "execution_count": 41,
   "metadata": {},
   "outputs": [
    {
     "name": "stdout",
     "output_type": "stream",
     "text": [
      "TOP-2 devices by mean duration (Low + High):\n",
      "device\n",
      "iPhone     52.08\n",
      "Android    46.91\n",
      "Name: duration_minutes, dtype: float64\n"
     ]
    },
    {
     "name": "stderr",
     "output_type": "stream",
     "text": [
      "/tmp/ipykernel_5805/453943515.py:2: FutureWarning: The default of observed=False is deprecated and will be changed to True in a future version of pandas. Pass observed=False to retain current behavior or observed=True to adopt the future default and silence this warning.\n",
      "  filtered_df.groupby('device')['duration_minutes']\n"
     ]
    }
   ],
   "source": [
    "top2_devices = (\n",
    "    filtered_df.groupby('device')['duration_minutes']\n",
    "    .mean()\n",
    "    .sort_values(ascending=False)\n",
    "    .head(2)\n",
    "    .round(2)\n",
    ")\n",
    "\n",
    "print(\"TOP-2 devices by mean duration (Low + High):\")\n",
    "print(top2_devices)"
   ]
  },
  {
   "cell_type": "code",
   "execution_count": 43,
   "metadata": {},
   "outputs": [
    {
     "name": "stdout",
     "output_type": "stream",
     "text": [
      "    device  mean_duration  min_duration  max_duration  median_duration\n",
      "0   iPhone          52.08           0.0        1287.0             41.0\n",
      "1  Android          46.91           0.0         114.0             45.0\n",
      "2      Mac          44.15           0.0         154.0             42.5\n",
      "3       PC          43.24           0.0         137.0             43.0\n"
     ]
    },
    {
     "name": "stderr",
     "output_type": "stream",
     "text": [
      "/tmp/ipykernel_5805/3930192134.py:1: FutureWarning: The default of observed=False is deprecated and will be changed to True in a future version of pandas. Pass observed=False to retain current behavior or observed=True to adopt the future default and silence this warning.\n",
      "  summary = filtered_df.groupby('device')['duration_minutes'].agg([\n"
     ]
    }
   ],
   "source": [
    "summary = filtered_df.groupby('device')['duration_minutes'].agg([\n",
    "    ('mean_duration', 'mean'),\n",
    "    ('min_duration', 'min'),\n",
    "    ('max_duration', 'max'),\n",
    "    ('median_duration', 'median')\n",
    "]).round(2).sort_values(by='mean_duration', ascending=False)\n",
    "\n",
    "summary = summary.reset_index()\n",
    "print(summary)"
   ]
  },
  {
   "cell_type": "markdown",
   "metadata": {},
   "source": [
    "**Алгоритм работы**\n",
    "\n",
    "Код анализирует пользовательские сессии, разделяя их на категории по длительности и выявляя ключевые метрики для устройств. Сначала длительность сессии в минутах вычисляется как разница между `session_end` и `session_start` с помощью `.dt.total_seconds() / 60`, результат сохраняется в столбец `duration_minutes`. Затем функция `categorize_duration(duration)` с помощью условий `if-elif-else` классифицирует сессии: **'Low'** — менее 5 мин, **'Mean'** — от 5 до 30 мин, **'High'** — более 30 мин. Эта категоризация применяется ко всем строкам через `.apply()`, и результат записывается в новый столбец `duration_category`. Далее с помощью `.isin(['Low', 'High'])` фильтруются только сессии с крайними значениями длительности (очень короткие и очень длинные), результат сохраняется в `filtered_df`. На основе этих данных методом `.groupby('device')` данные группируются по устройству, и для каждого рассчитывается средняя длительность — `.mean()`. Результат сортируется по убыванию с помощью `.sort_values(ascending=False)`, двумя наибольшими значениями остаются после `.head(2)`, а `.round(2)` округляет их до двух знаков. Это даёт **топ-2 устройства по средней длительности** в выбранных категориях. Затем с помощью `.agg()` вычисляются несколько статистик: среднее (`mean`), минимум (`min`), максимум (`max`) и медиана (`median`), каждая получает понятное имя (например, `'mean_duration'`). Результат снова округляется, сортируется по среднему времени и преобразуется в обычный DataFrame с помощью `.reset_index()`. В конце выводятся топ-2 устройства и сводная таблица с ключевыми метриками. Такой подход позволяет оценить поведение пользователей в экстремальных сценариях использования.\n",
    "\n",
    "**Лидерство iPhone по средней длительности** \n",
    "* iPhone — абсолютный лидер: средняя длительность сессии — 52.08 минут\n",
    "* Это на 5+ минут больше, чем у ближайшего конкурента (Android — 46.91).\n",
    "* При этом медиана у iPhone — 41.0, что ниже среднего. Это указывает на наличие очень длинных сессий, сильно завышающих среднее.\n",
    "     \n",
    "Пример: одна сессия в 1287 минут (~21 час) — почти наверняка артефакт или выброс (фоновое приложение, неотслеженный выход). \n",
    " \n",
    "**Android — стабильный второй** \n",
    "* Среднее: 46.91 мин\n",
    "* Максимум: 114.0 мин — значительно меньше, чем у iPhone.\n",
    "* Медиана: 45.0 мин — даже выше, чем у iPhone (41.0), несмотря на меньшее среднее.\n",
    "     \n",
    "Это говорит о более равномерном распределении:\n",
    "* Большинство длинных сессий у Android — в районе 45 мин, без экстремальных хвостов.\n",
    "* Значит, данные надёжнее, а пользователи — предсказуемо вовлечены. \n",
    " \n",
    "**Mac и PC — замыкают топ** \n",
    "* Mac: 44.15 мин (медиана 42.5)\n",
    "* PC: 43.24 мин (медиана 43.0)\n",
    "     \n",
    "Оба показывают почти одинаковые медианы, но: \n",
    "* Mac имеет более высокое среднее, чем PC.\n",
    "* Оба существенно уступают мобильным устройствам по среднему времени."
   ]
  },
  {
   "cell_type": "code",
   "execution_count": null,
   "metadata": {},
   "outputs": [],
   "source": []
  }
 ],
 "metadata": {
  "colab": {
   "provenance": []
  },
  "kernelspec": {
   "display_name": "Python 3 (ipykernel)",
   "language": "python",
   "name": "python3"
  },
  "language_info": {
   "codemirror_mode": {
    "name": "ipython",
    "version": 3
   },
   "file_extension": ".py",
   "mimetype": "text/x-python",
   "name": "python",
   "nbconvert_exporter": "python",
   "pygments_lexer": "ipython3",
   "version": "3.10.12"
  }
 },
 "nbformat": 4,
 "nbformat_minor": 4
}
